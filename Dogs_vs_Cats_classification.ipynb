{
  "cells": [
    {
      "cell_type": "markdown",
      "metadata": {
        "id": "view-in-github",
        "colab_type": "text"
      },
      "source": [
        "<a href=\"https://colab.research.google.com/github/JoeElgendy/Amit-ML-DeepLearning-assignments/blob/main/Dogs_vs_Cats_classification.ipynb\" target=\"_parent\"><img src=\"https://colab.research.google.com/assets/colab-badge.svg\" alt=\"Open In Colab\"/></a>"
      ]
    },
    {
      "cell_type": "code",
      "execution_count": 2,
      "metadata": {
        "id": "0f3OLu9QSzX9"
      },
      "outputs": [],
      "source": [
        "import numpy as np \n",
        "import pandas as pd \n",
        "import matplotlib.pyplot as plt \n",
        "import os "
      ]
    },
    {
      "cell_type": "code",
      "execution_count": 7,
      "metadata": {
        "colab": {
          "base_uri": "https://localhost:8080/"
        },
        "id": "JqHkQIRWWPy4",
        "outputId": "514aa594-7af4-4072-ece0-6fc2aa3b5167"
      },
      "outputs": [
        {
          "output_type": "stream",
          "name": "stdout",
          "text": [
            "Downloading dogs-vs-cats.zip to /content\n",
            " 99% 800M/812M [00:16<00:00, 152MB/s]\n",
            "100% 812M/812M [00:16<00:00, 52.3MB/s]\n"
          ]
        }
      ],
      "source": [
        "!pip install -U -q kaggle\n",
        "!mkdir -p ~/.kaggle\n",
        "!echo '{\"username\":\"youssefelgendy9\",\"key\":\"ed2050b91f5978b707146dfbe196d470\"}' > ~/.kaggle/kaggle.json\n",
        "!chmod 600 ~/.kaggle/kaggle.json\n",
        "!kaggle competitions download -c dogs-vs-cats"
      ]
    },
    {
      "cell_type": "code",
      "execution_count": 8,
      "metadata": {
        "colab": {
          "base_uri": "https://localhost:8080/"
        },
        "id": "yrxwbkVHW9Xf",
        "outputId": "b5f5e8a4-f946-4b11-95c9-b24feb0cb31d"
      },
      "outputs": [
        {
          "output_type": "execute_result",
          "data": {
            "text/plain": [
              "['.config', 'dogs-vs-cats.zip', 'sample_data']"
            ]
          },
          "metadata": {},
          "execution_count": 8
        }
      ],
      "source": [
        "os.listdir()"
      ]
    },
    {
      "cell_type": "code",
      "execution_count": 9,
      "metadata": {
        "id": "wy6vFIK_Xk5f"
      },
      "outputs": [],
      "source": [
        "import zipfile\n"
      ]
    },
    {
      "cell_type": "code",
      "execution_count": 10,
      "metadata": {
        "colab": {
          "base_uri": "https://localhost:8080/"
        },
        "id": "61dIcmO6XoEQ",
        "outputId": "3010b210-4dc4-4533-f6ba-2299e654ffa2"
      },
      "outputs": [
        {
          "output_type": "stream",
          "name": "stdout",
          "text": [
            "test1 unzipped\n",
            "train unzipped\n"
          ]
        }
      ],
      "source": [
        "zip_files = ['test1', 'train']\n",
        "zip_files = ['test1', 'train']\n",
        "for zip_file in zip_files:\n",
        "    with zipfile.ZipFile(\"/content/dogs-vs-cats.zip\".format(zip_file),\"r\") as z:\n",
        "        z.extractall(\".\")\n",
        "        print(\"{} unzipped\".format(zip_file))"
      ]
    },
    {
      "cell_type": "code",
      "execution_count": 11,
      "metadata": {
        "colab": {
          "base_uri": "https://localhost:8080/"
        },
        "id": "W-gUQ5lJYb8G",
        "outputId": "306f7726-64b6-4be8-b878-edf1a60325cd"
      },
      "outputs": [
        {
          "output_type": "execute_result",
          "data": {
            "text/plain": [
              "['.config',\n",
              " 'train.zip',\n",
              " 'test1.zip',\n",
              " 'dogs-vs-cats.zip',\n",
              " 'sampleSubmission.csv',\n",
              " 'sample_data']"
            ]
          },
          "metadata": {},
          "execution_count": 11
        }
      ],
      "source": [
        "os.listdir()"
      ]
    },
    {
      "cell_type": "code",
      "execution_count": 12,
      "metadata": {
        "id": "IEG7vnztZRdT"
      },
      "outputs": [],
      "source": [
        "with zipfile.ZipFile(\"train.zip\",\"r\") as z:\n",
        "    z.extractall(\".\")\n",
        "    \n",
        "with zipfile.ZipFile(\"test1.zip\",\"r\") as z:\n",
        "    z.extractall(\".\")"
      ]
    },
    {
      "cell_type": "code",
      "execution_count": 13,
      "metadata": {
        "id": "Q3mZt3vRrETs"
      },
      "outputs": [],
      "source": [
        "image_path='/content'\n"
      ]
    },
    {
      "cell_type": "code",
      "execution_count": 15,
      "metadata": {
        "id": "cbTWuY8vsRLw"
      },
      "outputs": [],
      "source": [
        "#stating the path of the folder in google colab\n",
        "IMAGE_FOLDER_PATH=\"/content/train\"\n",
        "#extracting all the files in the directory\n",
        "FILE_NAMES=os.listdir(IMAGE_FOLDER_PATH)\n",
        "WIDTH=150\n",
        "HEIGHT=150\n",
        "\n",
        "#creating two list one for the target and one for the full path\n",
        "targets=list()\n",
        "full_paths=list()\n",
        "# thank god the image has the target type in its name before the '.'\n",
        "for file_name in FILE_NAMES:\n",
        "    target=file_name.split(\".\")[0]\n",
        "    # to add the image name to the path\n",
        "    full_path=os.path.join(IMAGE_FOLDER_PATH, file_name)\n",
        "    full_paths.append(full_path)\n",
        "    targets.append(target)\n",
        "\n",
        "dataset=pd.DataFrame()\n",
        "dataset['image_path']=full_paths\n",
        "dataset['target']=targets"
      ]
    },
    {
      "cell_type": "code",
      "execution_count": 16,
      "metadata": {
        "colab": {
          "base_uri": "https://localhost:8080/",
          "height": 359
        },
        "id": "IfQxaQzmtUaY",
        "outputId": "5eff1d40-058d-4710-ca6b-5f9054b57d0c"
      },
      "outputs": [
        {
          "output_type": "execute_result",
          "data": {
            "text/plain": [
              "                     image_path target\n",
              "0  /content/train/dog.10084.jpg    dog\n",
              "1  /content/train/dog.10174.jpg    dog\n",
              "2  /content/train/dog.10910.jpg    dog\n",
              "3   /content/train/cat.7996.jpg    cat\n",
              "4   /content/train/dog.5696.jpg    dog\n",
              "5   /content/train/cat.5943.jpg    cat\n",
              "6   /content/train/cat.8905.jpg    cat\n",
              "7   /content/train/cat.5486.jpg    cat\n",
              "8   /content/train/dog.7655.jpg    dog\n",
              "9  /content/train/cat.11139.jpg    cat"
            ],
            "text/html": [
              "\n",
              "  <div id=\"df-d58f6e32-88c3-4313-aaa7-6462c96dc84b\">\n",
              "    <div class=\"colab-df-container\">\n",
              "      <div>\n",
              "<style scoped>\n",
              "    .dataframe tbody tr th:only-of-type {\n",
              "        vertical-align: middle;\n",
              "    }\n",
              "\n",
              "    .dataframe tbody tr th {\n",
              "        vertical-align: top;\n",
              "    }\n",
              "\n",
              "    .dataframe thead th {\n",
              "        text-align: right;\n",
              "    }\n",
              "</style>\n",
              "<table border=\"1\" class=\"dataframe\">\n",
              "  <thead>\n",
              "    <tr style=\"text-align: right;\">\n",
              "      <th></th>\n",
              "      <th>image_path</th>\n",
              "      <th>target</th>\n",
              "    </tr>\n",
              "  </thead>\n",
              "  <tbody>\n",
              "    <tr>\n",
              "      <th>0</th>\n",
              "      <td>/content/train/dog.10084.jpg</td>\n",
              "      <td>dog</td>\n",
              "    </tr>\n",
              "    <tr>\n",
              "      <th>1</th>\n",
              "      <td>/content/train/dog.10174.jpg</td>\n",
              "      <td>dog</td>\n",
              "    </tr>\n",
              "    <tr>\n",
              "      <th>2</th>\n",
              "      <td>/content/train/dog.10910.jpg</td>\n",
              "      <td>dog</td>\n",
              "    </tr>\n",
              "    <tr>\n",
              "      <th>3</th>\n",
              "      <td>/content/train/cat.7996.jpg</td>\n",
              "      <td>cat</td>\n",
              "    </tr>\n",
              "    <tr>\n",
              "      <th>4</th>\n",
              "      <td>/content/train/dog.5696.jpg</td>\n",
              "      <td>dog</td>\n",
              "    </tr>\n",
              "    <tr>\n",
              "      <th>5</th>\n",
              "      <td>/content/train/cat.5943.jpg</td>\n",
              "      <td>cat</td>\n",
              "    </tr>\n",
              "    <tr>\n",
              "      <th>6</th>\n",
              "      <td>/content/train/cat.8905.jpg</td>\n",
              "      <td>cat</td>\n",
              "    </tr>\n",
              "    <tr>\n",
              "      <th>7</th>\n",
              "      <td>/content/train/cat.5486.jpg</td>\n",
              "      <td>cat</td>\n",
              "    </tr>\n",
              "    <tr>\n",
              "      <th>8</th>\n",
              "      <td>/content/train/dog.7655.jpg</td>\n",
              "      <td>dog</td>\n",
              "    </tr>\n",
              "    <tr>\n",
              "      <th>9</th>\n",
              "      <td>/content/train/cat.11139.jpg</td>\n",
              "      <td>cat</td>\n",
              "    </tr>\n",
              "  </tbody>\n",
              "</table>\n",
              "</div>\n",
              "      <button class=\"colab-df-convert\" onclick=\"convertToInteractive('df-d58f6e32-88c3-4313-aaa7-6462c96dc84b')\"\n",
              "              title=\"Convert this dataframe to an interactive table.\"\n",
              "              style=\"display:none;\">\n",
              "        \n",
              "  <svg xmlns=\"http://www.w3.org/2000/svg\" height=\"24px\"viewBox=\"0 0 24 24\"\n",
              "       width=\"24px\">\n",
              "    <path d=\"M0 0h24v24H0V0z\" fill=\"none\"/>\n",
              "    <path d=\"M18.56 5.44l.94 2.06.94-2.06 2.06-.94-2.06-.94-.94-2.06-.94 2.06-2.06.94zm-11 1L8.5 8.5l.94-2.06 2.06-.94-2.06-.94L8.5 2.5l-.94 2.06-2.06.94zm10 10l.94 2.06.94-2.06 2.06-.94-2.06-.94-.94-2.06-.94 2.06-2.06.94z\"/><path d=\"M17.41 7.96l-1.37-1.37c-.4-.4-.92-.59-1.43-.59-.52 0-1.04.2-1.43.59L10.3 9.45l-7.72 7.72c-.78.78-.78 2.05 0 2.83L4 21.41c.39.39.9.59 1.41.59.51 0 1.02-.2 1.41-.59l7.78-7.78 2.81-2.81c.8-.78.8-2.07 0-2.86zM5.41 20L4 18.59l7.72-7.72 1.47 1.35L5.41 20z\"/>\n",
              "  </svg>\n",
              "      </button>\n",
              "      \n",
              "  <style>\n",
              "    .colab-df-container {\n",
              "      display:flex;\n",
              "      flex-wrap:wrap;\n",
              "      gap: 12px;\n",
              "    }\n",
              "\n",
              "    .colab-df-convert {\n",
              "      background-color: #E8F0FE;\n",
              "      border: none;\n",
              "      border-radius: 50%;\n",
              "      cursor: pointer;\n",
              "      display: none;\n",
              "      fill: #1967D2;\n",
              "      height: 32px;\n",
              "      padding: 0 0 0 0;\n",
              "      width: 32px;\n",
              "    }\n",
              "\n",
              "    .colab-df-convert:hover {\n",
              "      background-color: #E2EBFA;\n",
              "      box-shadow: 0px 1px 2px rgba(60, 64, 67, 0.3), 0px 1px 3px 1px rgba(60, 64, 67, 0.15);\n",
              "      fill: #174EA6;\n",
              "    }\n",
              "\n",
              "    [theme=dark] .colab-df-convert {\n",
              "      background-color: #3B4455;\n",
              "      fill: #D2E3FC;\n",
              "    }\n",
              "\n",
              "    [theme=dark] .colab-df-convert:hover {\n",
              "      background-color: #434B5C;\n",
              "      box-shadow: 0px 1px 3px 1px rgba(0, 0, 0, 0.15);\n",
              "      filter: drop-shadow(0px 1px 2px rgba(0, 0, 0, 0.3));\n",
              "      fill: #FFFFFF;\n",
              "    }\n",
              "  </style>\n",
              "\n",
              "      <script>\n",
              "        const buttonEl =\n",
              "          document.querySelector('#df-d58f6e32-88c3-4313-aaa7-6462c96dc84b button.colab-df-convert');\n",
              "        buttonEl.style.display =\n",
              "          google.colab.kernel.accessAllowed ? 'block' : 'none';\n",
              "\n",
              "        async function convertToInteractive(key) {\n",
              "          const element = document.querySelector('#df-d58f6e32-88c3-4313-aaa7-6462c96dc84b');\n",
              "          const dataTable =\n",
              "            await google.colab.kernel.invokeFunction('convertToInteractive',\n",
              "                                                     [key], {});\n",
              "          if (!dataTable) return;\n",
              "\n",
              "          const docLinkHtml = 'Like what you see? Visit the ' +\n",
              "            '<a target=\"_blank\" href=https://colab.research.google.com/notebooks/data_table.ipynb>data table notebook</a>'\n",
              "            + ' to learn more about interactive tables.';\n",
              "          element.innerHTML = '';\n",
              "          dataTable['output_type'] = 'display_data';\n",
              "          await google.colab.output.renderOutput(dataTable, element);\n",
              "          const docLink = document.createElement('div');\n",
              "          docLink.innerHTML = docLinkHtml;\n",
              "          element.appendChild(docLink);\n",
              "        }\n",
              "      </script>\n",
              "    </div>\n",
              "  </div>\n",
              "  "
            ]
          },
          "metadata": {},
          "execution_count": 16
        }
      ],
      "source": [
        "dataset.head(10)"
      ]
    },
    {
      "cell_type": "code",
      "execution_count": null,
      "metadata": {
        "colab": {
          "base_uri": "https://localhost:8080/"
        },
        "id": "_E__8CcSterK",
        "outputId": "c0cb3c83-eeb8-40a2-dfc3-f0c528fed29e"
      },
      "outputs": [
        {
          "name": "stdout",
          "output_type": "stream",
          "text": [
            "number of dogs in the data : 12500\n",
            "number of cats in the data : 12500\n"
          ]
        }
      ],
      "source": [
        "target_counts=dataset['target'].value_counts()\n",
        "print('number of dogs in the data : {}'.format(target_counts['dog']))\n",
        "print('number of cats in the data : {}'.format(target_counts['cat']))"
      ]
    },
    {
      "cell_type": "code",
      "execution_count": null,
      "metadata": {
        "id": "fB-QdlM3ww3j"
      },
      "outputs": [],
      "source": [
        "import cv2"
      ]
    },
    {
      "cell_type": "code",
      "execution_count": 3,
      "metadata": {
        "id": "95pR6iThxgqo"
      },
      "outputs": [],
      "source": [
        "from keras import layers \n",
        "from keras import models\n",
        "from keras import optimizers \n",
        "from keras.preprocessing.image import ImageDataGenerator\n",
        "from keras import applications \n",
        "\n",
        "from sklearn.preprocessing import LabelEncoder \n",
        "from sklearn.model_selection import train_test_split \n",
        "from sklearn.linear_model import LogisticRegression \n",
        "from sklearn import metrics "
      ]
    },
    {
      "cell_type": "code",
      "execution_count": 2,
      "metadata": {
        "id": "gijOiFpUzQVr",
        "colab": {
          "base_uri": "https://localhost:8080/",
          "height": 164
        },
        "outputId": "ca38c1c2-bdeb-4455-d313-3836c15779f4"
      },
      "outputs": [
        {
          "output_type": "error",
          "ename": "NameError",
          "evalue": "ignored",
          "traceback": [
            "\u001b[0;31m---------------------------------------------------------------------------\u001b[0m",
            "\u001b[0;31mNameError\u001b[0m                                 Traceback (most recent call last)",
            "\u001b[0;32m<ipython-input-2-76950064c80f>\u001b[0m in \u001b[0;36m<module>\u001b[0;34m\u001b[0m\n\u001b[0;32m----> 1\u001b[0;31m \u001b[0mx_train\u001b[0m\u001b[0;34m,\u001b[0m\u001b[0mx_val\u001b[0m\u001b[0;34m=\u001b[0m\u001b[0mtrain_test_split\u001b[0m\u001b[0;34m(\u001b[0m\u001b[0mdataset\u001b[0m\u001b[0;34m,\u001b[0m\u001b[0mrandom_state\u001b[0m\u001b[0;34m=\u001b[0m\u001b[0;36m40\u001b[0m\u001b[0;34m,\u001b[0m\u001b[0mshuffle\u001b[0m\u001b[0;34m=\u001b[0m\u001b[0;32mTrue\u001b[0m\u001b[0;34m,\u001b[0m\u001b[0mtest_size\u001b[0m\u001b[0;34m=\u001b[0m\u001b[0;36m0.2\u001b[0m\u001b[0;34m)\u001b[0m\u001b[0;34m\u001b[0m\u001b[0;34m\u001b[0m\u001b[0m\n\u001b[0m",
            "\u001b[0;31mNameError\u001b[0m: name 'train_test_split' is not defined"
          ]
        }
      ],
      "source": [
        "x_train,x_val=train_test_split(dataset,random_state=40,shuffle=True,test_size=0.2)"
      ]
    },
    {
      "cell_type": "code",
      "execution_count": null,
      "metadata": {
        "colab": {
          "base_uri": "https://localhost:8080/"
        },
        "id": "AcvIqmRAFV0q",
        "outputId": "27cabc14-fc1a-4c87-fc3f-7bf2bcbd6201"
      },
      "outputs": [
        {
          "data": {
            "text/plain": [
              "(20000, 2)"
            ]
          },
          "execution_count": 18,
          "metadata": {},
          "output_type": "execute_result"
        }
      ],
      "source": [
        "x_train.shape"
      ]
    },
    {
      "cell_type": "code",
      "execution_count": null,
      "metadata": {
        "colab": {
          "base_uri": "https://localhost:8080/"
        },
        "id": "aru8GNNCz7au",
        "outputId": "27c0e449-569f-48cd-f1ed-e3321e36c9ec"
      },
      "outputs": [
        {
          "data": {
            "text/plain": [
              "cat    10065\n",
              "dog     9935\n",
              "Name: target, dtype: int64"
            ]
          },
          "execution_count": 19,
          "metadata": {},
          "output_type": "execute_result"
        }
      ],
      "source": [
        "x_train['target'].value_counts()"
      ]
    },
    {
      "cell_type": "code",
      "execution_count": null,
      "metadata": {
        "colab": {
          "base_uri": "https://localhost:8080/"
        },
        "id": "xz2cF2pPz-rJ",
        "outputId": "c6ee2cd5-d3e8-4f1f-8f43-31092c28fe88"
      },
      "outputs": [
        {
          "data": {
            "text/plain": [
              "dog    2565\n",
              "cat    2435\n",
              "Name: target, dtype: int64"
            ]
          },
          "execution_count": 20,
          "metadata": {},
          "output_type": "execute_result"
        }
      ],
      "source": [
        "x_val['target'].value_counts()"
      ]
    },
    {
      "cell_type": "code",
      "execution_count": null,
      "metadata": {
        "colab": {
          "base_uri": "https://localhost:8080/"
        },
        "id": "1MGPlTNH1F1m",
        "outputId": "57623789-7b18-4029-bede-dd3af2e68a9f"
      },
      "outputs": [
        {
          "data": {
            "text/plain": [
              "<bound method Model.summary of <keras.engine.sequential.Sequential object at 0x7f2521667e10>>"
            ]
          },
          "execution_count": 21,
          "metadata": {},
          "output_type": "execute_result"
        }
      ],
      "source": [
        "model=models.Sequential()\n",
        "model.add(layers.Conv2D(32,(3,3),activation='relu',input_shape=(WIDTH,HEIGHT,3)))\n",
        "model.add(layers.Conv2D(32,(3,3),activation='relu'))\n",
        "model.add(layers.BatchNormalization())\n",
        "model.add(layers.MaxPooling2D((2,2)))\n",
        "model.add(layers.Dropout(0.25))\n",
        "model.add(layers.Conv2D(64,(3,3),activation='relu'))\n",
        "model.add(layers.Conv2D(64,(3,3),activation='relu'))\n",
        "model.add(layers.BatchNormalization())\n",
        "model.add(layers.MaxPooling2D((2,2)))\n",
        "model.add(layers.Dropout(0.25))\n",
        "model.add(layers.Conv2D(128,(3,3),activation='relu'))\n",
        "model.add(layers.Conv2D(128,(3,3),activation='relu'))\n",
        "model.add(layers.BatchNormalization())\n",
        "model.add(layers.MaxPooling2D(2,2))\n",
        "model.add(layers.Dropout(0.25))\n",
        "model.add(layers.Conv2D(64,(3,3),activation='relu'))\n",
        "model.add(layers.Conv2D(64,(3,3),activation='relu'))\n",
        "model.add(layers.BatchNormalization())\n",
        "model.add(layers.MaxPooling2D((2,2)))\n",
        "model.add(layers.Dropout(0.25))\n",
        "model.add(layers.Flatten())\n",
        "model.add(layers.Dense(512,activation='relu'))\n",
        "model.add(layers.Dropout(0.5))\n",
        "model.add(layers.Dense(1,activation='sigmoid'))\n",
        "model.summary"
      ]
    },
    {
      "cell_type": "code",
      "execution_count": null,
      "metadata": {
        "colab": {
          "base_uri": "https://localhost:8080/"
        },
        "id": "xGxoRklvBJN0",
        "outputId": "c51bc9d5-fe91-45b8-8454-f0c0b9226585"
      },
      "outputs": [
        {
          "name": "stdout",
          "output_type": "stream",
          "text": [
            "Model: \"sequential\"\n",
            "_________________________________________________________________\n",
            " Layer (type)                Output Shape              Param #   \n",
            "=================================================================\n",
            " conv2d (Conv2D)             (None, 148, 148, 32)      896       \n",
            "                                                                 \n",
            " conv2d_1 (Conv2D)           (None, 146, 146, 32)      9248      \n",
            "                                                                 \n",
            " batch_normalization (BatchN  (None, 146, 146, 32)     128       \n",
            " ormalization)                                                   \n",
            "                                                                 \n",
            " max_pooling2d (MaxPooling2D  (None, 73, 73, 32)       0         \n",
            " )                                                               \n",
            "                                                                 \n",
            " dropout (Dropout)           (None, 73, 73, 32)        0         \n",
            "                                                                 \n",
            " conv2d_2 (Conv2D)           (None, 71, 71, 64)        18496     \n",
            "                                                                 \n",
            " conv2d_3 (Conv2D)           (None, 69, 69, 64)        36928     \n",
            "                                                                 \n",
            " batch_normalization_1 (Batc  (None, 69, 69, 64)       256       \n",
            " hNormalization)                                                 \n",
            "                                                                 \n",
            " max_pooling2d_1 (MaxPooling  (None, 34, 34, 64)       0         \n",
            " 2D)                                                             \n",
            "                                                                 \n",
            " dropout_1 (Dropout)         (None, 34, 34, 64)        0         \n",
            "                                                                 \n",
            " conv2d_4 (Conv2D)           (None, 32, 32, 128)       73856     \n",
            "                                                                 \n",
            " conv2d_5 (Conv2D)           (None, 30, 30, 128)       147584    \n",
            "                                                                 \n",
            " batch_normalization_2 (Batc  (None, 30, 30, 128)      512       \n",
            " hNormalization)                                                 \n",
            "                                                                 \n",
            " max_pooling2d_2 (MaxPooling  (None, 15, 15, 128)      0         \n",
            " 2D)                                                             \n",
            "                                                                 \n",
            " dropout_2 (Dropout)         (None, 15, 15, 128)       0         \n",
            "                                                                 \n",
            " conv2d_6 (Conv2D)           (None, 13, 13, 64)        73792     \n",
            "                                                                 \n",
            " conv2d_7 (Conv2D)           (None, 11, 11, 64)        36928     \n",
            "                                                                 \n",
            " batch_normalization_3 (Batc  (None, 11, 11, 64)       256       \n",
            " hNormalization)                                                 \n",
            "                                                                 \n",
            " max_pooling2d_3 (MaxPooling  (None, 5, 5, 64)         0         \n",
            " 2D)                                                             \n",
            "                                                                 \n",
            " dropout_3 (Dropout)         (None, 5, 5, 64)          0         \n",
            "                                                                 \n",
            " flatten (Flatten)           (None, 1600)              0         \n",
            "                                                                 \n",
            " dense (Dense)               (None, 512)               819712    \n",
            "                                                                 \n",
            " dropout_4 (Dropout)         (None, 512)               0         \n",
            "                                                                 \n",
            " dense_1 (Dense)             (None, 1)                 513       \n",
            "                                                                 \n",
            "=================================================================\n",
            "Total params: 1,219,105\n",
            "Trainable params: 1,218,529\n",
            "Non-trainable params: 576\n",
            "_________________________________________________________________\n"
          ]
        }
      ],
      "source": [
        "model.summary()"
      ]
    },
    {
      "cell_type": "code",
      "execution_count": null,
      "metadata": {
        "id": "DQBhJkdNBV1q"
      },
      "outputs": [],
      "source": [
        "model.compile(loss=\"binary_crossentropy\", \n",
        "             optimizer='adam',\n",
        "             metrics=[\"accuracy\"])"
      ]
    },
    {
      "cell_type": "code",
      "execution_count": null,
      "metadata": {
        "colab": {
          "base_uri": "https://localhost:8080/"
        },
        "id": "NgAlMSaxDBMO",
        "outputId": "2c820eb7-7c63-44e7-903f-e87d6246e16c"
      },
      "outputs": [
        {
          "name": "stdout",
          "output_type": "stream",
          "text": [
            "Found 20000 validated image filenames belonging to 2 classes.\n"
          ]
        }
      ],
      "source": [
        "train_datagen=ImageDataGenerator(rescale=1./255,width_shift_range=0.1,height_shift_range=0.1,horizontal_flip=True)\n",
        "train_datagenerator=train_datagen.flow_from_dataframe(dataframe=x_train,x_col='image_path',y_col='target',target_size=(WIDTH,HEIGHT),class_mode='binary',batch_size=150)"
      ]
    },
    {
      "cell_type": "code",
      "execution_count": null,
      "metadata": {
        "colab": {
          "base_uri": "https://localhost:8080/"
        },
        "id": "wPErTwv96_dh",
        "outputId": "17715af4-3b6c-4082-81c6-f371f31a4ab4"
      },
      "outputs": [
        {
          "name": "stdout",
          "output_type": "stream",
          "text": [
            "Found 5000 validated image filenames belonging to 2 classes.\n"
          ]
        }
      ],
      "source": [
        "test_datagen=ImageDataGenerator(rescale=1./255)\n",
        "test_datagenerator=test_datagen.flow_from_dataframe(dataframe=x_val,x_col='image_path',y_col='target',target_size=(WIDTH,HEIGHT),class_mode='binary',batch_size=150)"
      ]
    },
    {
      "cell_type": "code",
      "execution_count": null,
      "metadata": {
        "colab": {
          "background_save": true,
          "base_uri": "https://localhost:8080/"
        },
        "id": "B0vwn2lhBk8i",
        "outputId": "ac01f388-b236-4885-fff4-e87f0f3cbe96"
      },
      "outputs": [
        {
          "name": "stderr",
          "output_type": "stream",
          "text": [
            "/usr/local/lib/python3.7/dist-packages/ipykernel_launcher.py:1: UserWarning: `Model.fit_generator` is deprecated and will be removed in a future version. Please use `Model.fit`, which supports generators.\n",
            "  \"\"\"Entry point for launching an IPython kernel.\n"
          ]
        },
        {
          "name": "stdout",
          "output_type": "stream",
          "text": [
            "Epoch 1/50\n",
            "133/133 [==============================] - 171s 1s/step - loss: 0.7686 - accuracy: 0.6100 - val_loss: 1.5513 - val_accuracy: 0.4873\n",
            "Epoch 2/50\n",
            "133/133 [==============================] - 155s 1s/step - loss: 0.5964 - accuracy: 0.6811 - val_loss: 0.9240 - val_accuracy: 0.5273\n",
            "Epoch 3/50\n",
            "133/133 [==============================] - 154s 1s/step - loss: 0.5374 - accuracy: 0.7292 - val_loss: 1.2753 - val_accuracy: 0.5154\n",
            "Epoch 4/50\n",
            "133/133 [==============================] - 154s 1s/step - loss: 0.4970 - accuracy: 0.7597 - val_loss: 0.8148 - val_accuracy: 0.6303\n",
            "Epoch 5/50\n",
            "133/133 [==============================] - 155s 1s/step - loss: 0.4348 - accuracy: 0.8019 - val_loss: 0.4230 - val_accuracy: 0.8091\n",
            "Epoch 6/50\n",
            "133/133 [==============================] - 155s 1s/step - loss: 0.3876 - accuracy: 0.8251 - val_loss: 0.4527 - val_accuracy: 0.7943\n",
            "Epoch 7/50\n",
            "133/133 [==============================] - 155s 1s/step - loss: 0.3425 - accuracy: 0.8469 - val_loss: 0.3766 - val_accuracy: 0.8212\n",
            "Epoch 8/50\n",
            "133/133 [==============================] - 153s 1s/step - loss: 0.3087 - accuracy: 0.8647 - val_loss: 0.3581 - val_accuracy: 0.8345\n",
            "Epoch 9/50\n",
            "133/133 [==============================] - 154s 1s/step - loss: 0.2815 - accuracy: 0.8818 - val_loss: 0.3397 - val_accuracy: 0.8594\n",
            "Epoch 10/50\n",
            "133/133 [==============================] - 154s 1s/step - loss: 0.2593 - accuracy: 0.8931 - val_loss: 0.4985 - val_accuracy: 0.8149\n",
            "Epoch 11/50\n",
            "133/133 [==============================] - 154s 1s/step - loss: 0.2421 - accuracy: 0.8962 - val_loss: 0.3063 - val_accuracy: 0.8840\n",
            "Epoch 12/50\n",
            "133/133 [==============================] - 154s 1s/step - loss: 0.2246 - accuracy: 0.9055 - val_loss: 0.2101 - val_accuracy: 0.9107\n",
            "Epoch 13/50\n",
            "133/133 [==============================] - 155s 1s/step - loss: 0.2127 - accuracy: 0.9125 - val_loss: 0.4433 - val_accuracy: 0.8253\n",
            "Epoch 14/50\n",
            "133/133 [==============================] - 155s 1s/step - loss: 0.1986 - accuracy: 0.9179 - val_loss: 0.2388 - val_accuracy: 0.8994\n",
            "Epoch 15/50\n",
            "133/133 [==============================] - 154s 1s/step - loss: 0.1935 - accuracy: 0.9201 - val_loss: 0.2469 - val_accuracy: 0.8915\n",
            "Epoch 16/50\n",
            "133/133 [==============================] - 155s 1s/step - loss: 0.1802 - accuracy: 0.9254 - val_loss: 0.1988 - val_accuracy: 0.9135\n",
            "Epoch 17/50\n",
            "133/133 [==============================] - 153s 1s/step - loss: 0.1736 - accuracy: 0.9293 - val_loss: 0.1723 - val_accuracy: 0.9315\n",
            "Epoch 18/50\n",
            "133/133 [==============================] - 154s 1s/step - loss: 0.1654 - accuracy: 0.9331 - val_loss: 0.2747 - val_accuracy: 0.8838\n",
            "Epoch 19/50\n",
            "133/133 [==============================] - 154s 1s/step - loss: 0.1589 - accuracy: 0.9355 - val_loss: 0.3306 - val_accuracy: 0.8646\n",
            "Epoch 20/50\n",
            "133/133 [==============================] - 153s 1s/step - loss: 0.1514 - accuracy: 0.9385 - val_loss: 0.2261 - val_accuracy: 0.9152\n",
            "Epoch 21/50\n",
            "133/133 [==============================] - 153s 1s/step - loss: 0.1485 - accuracy: 0.9399 - val_loss: 0.1920 - val_accuracy: 0.9192\n",
            "Epoch 22/50\n",
            "133/133 [==============================] - 152s 1s/step - loss: 0.1432 - accuracy: 0.9423 - val_loss: 0.1348 - val_accuracy: 0.9434\n",
            "Epoch 23/50\n",
            "133/133 [==============================] - 153s 1s/step - loss: 0.1399 - accuracy: 0.9426 - val_loss: 0.1577 - val_accuracy: 0.9349\n",
            "Epoch 24/50\n",
            "133/133 [==============================] - 153s 1s/step - loss: 0.1386 - accuracy: 0.9446 - val_loss: 0.7687 - val_accuracy: 0.7418\n",
            "Epoch 25/50\n",
            "133/133 [==============================] - 154s 1s/step - loss: 0.1394 - accuracy: 0.9460 - val_loss: 0.1598 - val_accuracy: 0.9366\n",
            "Epoch 26/50\n",
            "133/133 [==============================] - 154s 1s/step - loss: 0.1291 - accuracy: 0.9476 - val_loss: 0.1702 - val_accuracy: 0.9366\n",
            "Epoch 27/50\n",
            "133/133 [==============================] - 152s 1s/step - loss: 0.1255 - accuracy: 0.9506 - val_loss: 0.1746 - val_accuracy: 0.9341\n",
            "Epoch 28/50\n",
            "133/133 [==============================] - 153s 1s/step - loss: 0.1232 - accuracy: 0.9506 - val_loss: 0.3257 - val_accuracy: 0.8741\n",
            "Epoch 29/50\n",
            "133/133 [==============================] - 152s 1s/step - loss: 0.1225 - accuracy: 0.9527 - val_loss: 0.1229 - val_accuracy: 0.9501\n",
            "Epoch 30/50\n",
            "133/133 [==============================] - 153s 1s/step - loss: 0.1194 - accuracy: 0.9527 - val_loss: 0.1911 - val_accuracy: 0.9307\n",
            "Epoch 31/50\n",
            "133/133 [==============================] - 152s 1s/step - loss: 0.1141 - accuracy: 0.9557 - val_loss: 0.1435 - val_accuracy: 0.9434\n",
            "Epoch 32/50\n",
            "133/133 [==============================] - 152s 1s/step - loss: 0.1123 - accuracy: 0.9552 - val_loss: 0.1148 - val_accuracy: 0.9576\n",
            "Epoch 33/50\n",
            "133/133 [==============================] - 152s 1s/step - loss: 0.1091 - accuracy: 0.9578 - val_loss: 0.1308 - val_accuracy: 0.9509\n",
            "Epoch 34/50\n",
            "133/133 [==============================] - 152s 1s/step - loss: 0.1025 - accuracy: 0.9586 - val_loss: 0.1606 - val_accuracy: 0.9376\n",
            "Epoch 35/50\n",
            "133/133 [==============================] - 152s 1s/step - loss: 0.1046 - accuracy: 0.9572 - val_loss: 0.2277 - val_accuracy: 0.9198\n",
            "Epoch 36/50\n",
            "133/133 [==============================] - 152s 1s/step - loss: 0.1021 - accuracy: 0.9592 - val_loss: 0.1713 - val_accuracy: 0.9358\n",
            "Epoch 37/50\n",
            "133/133 [==============================] - 152s 1s/step - loss: 0.1016 - accuracy: 0.9613 - val_loss: 0.1203 - val_accuracy: 0.9543\n",
            "Epoch 38/50\n",
            "133/133 [==============================] - 151s 1s/step - loss: 0.1022 - accuracy: 0.9581 - val_loss: 0.1622 - val_accuracy: 0.9358\n",
            "Epoch 39/50\n",
            "133/133 [==============================] - 151s 1s/step - loss: 0.1016 - accuracy: 0.9590 - val_loss: 0.1352 - val_accuracy: 0.9457\n",
            "Epoch 40/50\n",
            "133/133 [==============================] - 152s 1s/step - loss: 0.0934 - accuracy: 0.9620 - val_loss: 0.1211 - val_accuracy: 0.9509\n",
            "Epoch 41/50\n",
            "133/133 [==============================] - 152s 1s/step - loss: 0.0908 - accuracy: 0.9636 - val_loss: 0.1322 - val_accuracy: 0.9479\n",
            "Epoch 42/50\n",
            "133/133 [==============================] - 152s 1s/step - loss: 0.0965 - accuracy: 0.9631 - val_loss: 0.1130 - val_accuracy: 0.9566\n",
            "Epoch 43/50\n",
            "133/133 [==============================] - 151s 1s/step - loss: 0.0887 - accuracy: 0.9635 - val_loss: 0.1182 - val_accuracy: 0.9594\n",
            "Epoch 44/50\n",
            "133/133 [==============================] - 152s 1s/step - loss: 0.0905 - accuracy: 0.9651 - val_loss: 0.1126 - val_accuracy: 0.9570\n",
            "Epoch 45/50\n",
            "133/133 [==============================] - 151s 1s/step - loss: 0.0871 - accuracy: 0.9638 - val_loss: 0.1338 - val_accuracy: 0.9507\n",
            "Epoch 46/50\n",
            "133/133 [==============================] - 151s 1s/step - loss: 0.0911 - accuracy: 0.9628 - val_loss: 0.1579 - val_accuracy: 0.9440\n",
            "Epoch 47/50\n",
            "133/133 [==============================] - 150s 1s/step - loss: 0.0855 - accuracy: 0.9652 - val_loss: 0.1952 - val_accuracy: 0.9214\n",
            "Epoch 48/50\n",
            "133/133 [==============================] - 150s 1s/step - loss: 0.0863 - accuracy: 0.9664 - val_loss: 0.1137 - val_accuracy: 0.9562\n",
            "Epoch 49/50\n",
            "133/133 [==============================] - 150s 1s/step - loss: 0.0830 - accuracy: 0.9676 - val_loss: 0.1850 - val_accuracy: 0.9307\n",
            "Epoch 50/50\n",
            "133/133 [==============================] - 151s 1s/step - loss: 0.0835 - accuracy: 0.9674 - val_loss: 0.1455 - val_accuracy: 0.9481\n"
          ]
        }
      ],
      "source": [
        "modelhistory1=model.fit_generator(train_datagenerator,epochs=50,validation_data=test_datagenerator,validation_steps=x_val.shape[0]//150,steps_per_epoch=x_train.shape[0]//150, verbose=1)"
      ]
    },
    {
      "cell_type": "code",
      "execution_count": null,
      "metadata": {
        "id": "vggeZU4be1QV"
      },
      "outputs": [],
      "source": [
        "from google.colab import drive\n",
        "drive.mount('/content/gdrive')"
      ]
    },
    {
      "cell_type": "code",
      "execution_count": null,
      "metadata": {
        "colab": {
          "background_save": true
        },
        "id": "Xju-IXzXrNcf"
      },
      "outputs": [],
      "source": [
        "model.save_weights('/content/gdrive')"
      ]
    },
    {
      "cell_type": "code",
      "execution_count": null,
      "metadata": {
        "id": "sgmg4l1jr4m4"
      },
      "outputs": [],
      "source": [
        "model.save('final_modellll_noo.h5')"
      ]
    },
    {
      "cell_type": "markdown",
      "metadata": {
        "id": "L7Us9n0uc3w6"
      },
      "source": [
        "# Transfer Learning "
      ]
    },
    {
      "cell_type": "code",
      "execution_count": null,
      "metadata": {
        "id": "nkNjvIFeCFNU"
      },
      "outputs": [],
      "source": [
        "from tensorflow import keras \n",
        "from functools import partial \n",
        "import numpy as np "
      ]
    },
    {
      "cell_type": "code",
      "execution_count": null,
      "metadata": {
        "id": "lx1DQUh-1E1p"
      },
      "outputs": [],
      "source": [
        "img_size=224 \n",
        "input_size=(img_size,img_size,3)"
      ]
    },
    {
      "cell_type": "code",
      "execution_count": null,
      "metadata": {
        "id": "gD_gupEQ2EZr"
      },
      "outputs": [],
      "source": [
        "epochs=10 \n",
        "batch_size=64\n",
        "\n",
        "pre_trained_model=keras.applications.VGG19(input_shape=input_size,include_top=False,weights=\"imagenet\")\n",
        "for layer in pre_trained_model.layers[:15]:\n",
        "  layer.trainable=False \n",
        "for layer in pre_trained_model.layers[15:]:\n",
        "  layer.trainable=True \n"
      ]
    },
    {
      "cell_type": "code",
      "execution_count": null,
      "metadata": {
        "id": "zaUUnpCA3llm"
      },
      "outputs": [],
      "source": [
        "pre_trained_model.summary()"
      ]
    },
    {
      "cell_type": "code",
      "execution_count": null,
      "metadata": {
        "id": "kKeXVoEq340C"
      },
      "outputs": [],
      "source": [
        "output_layer=pre_trained_model.get_layer('block5_pool')\n",
        "output=output_layer.output"
      ]
    },
    {
      "cell_type": "code",
      "execution_count": null,
      "metadata": {
        "id": "5KPF-q8Q4HSp"
      },
      "outputs": [],
      "source": [
        "x=keras.layers.GlobalMaxPool2D()(output)\n",
        "x=keras.layers.Dense(512,activation='relu')(x)\n",
        "x=keras.layers.Dropout(0.5)(x)\n",
        "x=keras.layers.Dense(1,activation='sigmoid')(x)\n",
        "model=keras.models.Model(pre_trained_model.input,x)\n",
        "model.compile(loss='binary_crossentropy',optimizer=keras.optimizers.SGD(lr=1e-4,momentum=0.9),metrics=['accuracy'])\n",
        "model.summary()"
      ]
    },
    {
      "cell_type": "code",
      "execution_count": null,
      "metadata": {
        "id": "dXtOazXB49DD"
      },
      "outputs": [],
      "source": [
        "history_pre_trained=pre_trained_model.fit_generator(train_datagenerator,epochs=epochs,validation_data=test_datagenerator,validation_steps=x_val.shape[0]//150,steps_per_epoch=x_train.shape[0]//150, verbose=1)"
      ]
    },
    {
      "cell_type": "markdown",
      "metadata": {
        "id": "ImeS-F8e9u6S"
      },
      "source": [
        "Transfer Learning using mobilenet"
      ]
    },
    {
      "cell_type": "code",
      "execution_count": null,
      "metadata": {
        "id": "wSFWQpftAFYW"
      },
      "outputs": [],
      "source": []
    }
  ],
  "metadata": {
    "accelerator": "GPU",
    "colab": {
      "collapsed_sections": [],
      "provenance": [],
      "authorship_tag": "ABX9TyPJTXZQPwMzpSUKxgUbPgQZ",
      "include_colab_link": true
    },
    "kernelspec": {
      "display_name": "Python 3",
      "name": "python3"
    },
    "language_info": {
      "name": "python"
    }
  },
  "nbformat": 4,
  "nbformat_minor": 0
}